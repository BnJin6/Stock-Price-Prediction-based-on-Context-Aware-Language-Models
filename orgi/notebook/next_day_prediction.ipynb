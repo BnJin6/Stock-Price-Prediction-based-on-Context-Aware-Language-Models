{
 "cells": [
  {
   "cell_type": "code",
   "execution_count": 36,
   "id": "f5fa9384-4d88-4a5f-b761-e8c4d7e1c94f",
   "metadata": {},
   "outputs": [],
   "source": [
    "import datetime\n",
    "from functools import partial\n",
    "from tqdm.auto import tqdm\n",
    "import matplotlib.pyplot as plt\n",
    "\n",
    "from typing import List, Callable\n",
    "from sklearn.metrics import accuracy_score, precision_recall_fscore_support, roc_auc_score, roc_curve, auc, precision_score, recall_score, confusion_matrix\n",
    "from sklearn.metrics import confusion_matrix, ConfusionMatrixDisplay, mean_squared_error, mean_absolute_error\n",
    "from sklearn.preprocessing import MinMaxScaler\n",
    "import pandas as pd\n",
    "from itertools import product\n",
    "from collections import Counter\n",
    "import vectorbt as vbt\n",
    "from scipy.optimize import minimize\n",
    "from pandas.tseries.offsets import DateOffset\n",
    "import numpy as np"
   ]
  },
  {
   "cell_type": "code",
   "execution_count": 2,
   "id": "fb251909-c880-4861-b844-1c7bc36582ba",
   "metadata": {
    "jupyter": {
     "source_hidden": true
    }
   },
   "outputs": [],
   "source": [
    "class Labeler:\n",
    "    def __init__(self, name):\n",
    "        \"\"\"\n",
    "        Initialize the labeler.\n",
    "\n",
    "        Args:\n",
    "        name (str): The name of the labeler.\n",
    "        \"\"\"\n",
    "        self.name = name\n",
    "\n",
    "    def fit(self, data):\n",
    "        \"\"\"\n",
    "        Fit the labeler to the data.\n",
    "\n",
    "        This method should be overridden by subclasses to implement\n",
    "        the actual fitting logic.\n",
    "\n",
    "        Args:\n",
    "        data (any): The data to fit the labeler to.\n",
    "        \"\"\"\n",
    "        raise NotImplementedError(\"Subclasses must implement this method.\")\n",
    "\n",
    "    def transform(self, data):\n",
    "        \"\"\"\n",
    "        Transform the data into labels.\n",
    "\n",
    "        This method should be overridden by subclasses to implement\n",
    "        the actual transformation logic.\n",
    "\n",
    "        Args:\n",
    "        data (any): The data to transform into labels.\n",
    "\n",
    "        Returns:\n",
    "        any: The labels.\n",
    "        \"\"\"\n",
    "        raise NotImplementedError(\"Subclasses must implement this method.\")\n",
    "\n",
    "class TripleBarrierLabeler(Labeler):\n",
    "    def __init__(self, volatility_period=7, upper_barrier_factor=1, lower_barrier_factor=1, vertical_barrier=7, min_trend_days=2, barrier_type='volatility', touch_type=\"HL\", up_label=2, neutral_label=1, down_label=0):\n",
    "        \"\"\"\n",
    "        Initialize the labeler.\n",
    "        \"\"\"\n",
    "        super().__init__(name=\"triple barrier labeling\")\n",
    "        self.volatility_period = volatility_period\n",
    "        self.upper_barrier_factor = upper_barrier_factor\n",
    "        self.lower_barrier_factor = lower_barrier_factor\n",
    "        self.vertical_barrier = vertical_barrier\n",
    "        self.min_trend_days = min_trend_days\n",
    "        self.barrier_type = barrier_type\n",
    "        self.touch_type = touch_type\n",
    "        self.up_label = up_label\n",
    "        self.down_label = down_label\n",
    "        self.neutral_label = neutral_label\n",
    "\n",
    "    def calculate_barriers(self, df, i, window):\n",
    "        \"\"\"calculate the barriers based on either volatility or returns of the backward window\n",
    "\n",
    "        Args:\n",
    "            df (pd.DataFrame): Data\n",
    "            i (pd.index): the index of the beginning of the window\n",
    "            window (int): window size\n",
    "\n",
    "        Returns:\n",
    "            df: Data including barriers for the forward window\n",
    "        \"\"\"\n",
    "        end_window = min(i+window, len(df)-1)  # Ensure the window does not exceed the dataframe\n",
    "\n",
    "        # Calculate the mean volatility or daily returns over the volatility_period\n",
    "        if self.barrier_type == 'volatility':\n",
    "            current_value = df.loc[i, 'volatility']\n",
    "        elif self.barrier_type == 'returns':\n",
    "            current_value = df.loc[i, 'daily_returns']\n",
    "        else:\n",
    "            raise ValueError(\"Invalid barrier_type. Choose either 'volatility' or 'returns'\")\n",
    "\n",
    "        df.loc[i:end_window, 'upper_barrier'] = df.loc[i, 'close'] + (df.loc[i, 'close'] * current_value * self.upper_barrier_factor)\n",
    "        df.loc[i:end_window, 'lower_barrier'] = df.loc[i, 'close'] - (df.loc[i, 'close'] * current_value * self.lower_barrier_factor)\n",
    "        return df\n",
    "\n",
    "    def label_observations(self, df, origin, i, label):\n",
    "        df.loc[origin:i+1, 'label'] = label\n",
    "        return df\n",
    "\n",
    "    def get_daily_vol(self, close, span=30):\n",
    "        \"\"\"\n",
    "        Calculate the EWMA volatility of closing prices.\n",
    "        \n",
    "        Parameters:\n",
    "        - close: A pandas Series of closing prices.\n",
    "        - span: The span for the EWMA standard deviation.\n",
    "        \n",
    "        Returns:\n",
    "        - A pandas Series of EWMA volatility estimates.\n",
    "        \"\"\"\n",
    "        # Calculate log returns\n",
    "        log_returns = np.log(close / close.shift(1))\n",
    "        \n",
    "        # Calculate EWMA volatility\n",
    "        ewma_volatility = log_returns.ewm(span=span).std()\n",
    "        \n",
    "        return log_returns, ewma_volatility\n",
    "\n",
    "    def fit(self, sdf):\n",
    "        df = sdf.copy()\n",
    "        # Calculate daily returns and volatility\n",
    "        df['daily_returns'], df['volatility'] = self.get_daily_vol(df.close, self.volatility_period)\n",
    "\n",
    "        df = df.reset_index()\n",
    "        # Initialize label and window start\n",
    "        df['label'] = self.neutral_label\n",
    "        df['window_start'] = False\n",
    "\n",
    "        self.data = df\n",
    "\n",
    "    def transform(self):\n",
    "        \"\"\"\n",
    "        Transform the data into labels.\n",
    "\n",
    "        Returns:\n",
    "        pd.DataFrame: The labels.\n",
    "        \"\"\"\n",
    "        window = self.vertical_barrier\n",
    "        origin = 0\n",
    "        touch_upper = lambda high, barrier: high >= barrier\n",
    "        touch_lower = lambda low, barrier: low <= barrier\n",
    "        # For each observation\n",
    "        for i in range(0, len(self.data)):\n",
    "            # Define your barriers at the beginning of each window\n",
    "            if i == origin:\n",
    "                self.data = self.calculate_barriers(self.data, i, window)\n",
    "                self.data.loc[i, 'window_start'] = True  # Mark the start of the window\n",
    "\n",
    "            # one of the conditions were met\n",
    "            if touch_upper(self.data.loc[i, \"high\" if self.touch_type == 'HL' else 'close'], self.data.loc[i, \"upper_barrier\"]):\n",
    "                if (i - origin > self.min_trend_days):\n",
    "                    # label the observations\n",
    "                    self.data = self.label_observations(self.data, origin, i, self.up_label)\n",
    "                    # set new origin\n",
    "                    origin = i + 1 if i + 1 < len(self.data) else i  # Check if i + 1 is within the DataFrame's index\n",
    "                    # reset window\n",
    "                    window = self.vertical_barrier\n",
    "            elif touch_lower(self.data.loc[i, \"low\" if self.touch_type == 'HL' else 'close'], self.data.loc[i, \"lower_barrier\"]):\n",
    "                if (i - origin > self.min_trend_days):\n",
    "                    # label the observations\n",
    "                    self.data = self.label_observations(self.data, origin, i, self.down_label)\n",
    "                    # set new origin\n",
    "                    origin = i + 1 if i + 1 < len(self.data) else i  # Check if i + 1 is within the DataFrame's index\n",
    "                    # reset window\n",
    "                    window = self.vertical_barrier\n",
    "\n",
    "            # none of the conditions were met\n",
    "            else:\n",
    "                if window > 0:\n",
    "                    # reduce window size by one\n",
    "                    window = window - 1\n",
    "                else:\n",
    "                    # reset window\n",
    "                    window = self.vertical_barrier\n",
    "                    # label neutral from origin to origin + window\n",
    "                    self.data.loc[origin:min(origin+window, len(self.data)-1), 'label'] = self.neutral_label  # Ensure the window does not exceed the dataframe\n",
    "                    # set origin to the next id\n",
    "                    origin = i + 1 if i + 1 < len(self.data) else i  # Check if i + 1 is within the DataFrame's index\n",
    "\n",
    "        self.data = self.data.set_index(\"timestamp\")\n",
    "        return self.data\n",
    "\n",
    "def optimize_parameters(price_df, param_grid, initial_capital=100000, num_starts=10, optimization_interval='6M'):\n",
    "    if optimization_interval is None:\n",
    "        # Use the whole dataset for optimization\n",
    "        best_params, best_sharpe_ratio = tune_hyperparameters_scipy(price_df, param_grid, initial_capital, num_starts)\n",
    "        return pd.DataFrame([{\n",
    "            'start': price_df.index[0],\n",
    "            'end': price_df.index[-1],\n",
    "            'params': best_params,\n",
    "            'sharpe_ratio': best_sharpe_ratio,\n",
    "        }])\n",
    "    else:\n",
    "        # Optimize parameters at specified intervals\n",
    "        intervals = pd.date_range(start=price_df.index[0], end=price_df.index[-1], freq=optimization_interval)\n",
    "        optimized_params = []\n",
    "\n",
    "        for start, end in zip(intervals[:-1], intervals[1:]):\n",
    "            interval_df = price_df.loc[start:end]\n",
    "            best_params, best_sharpe_ratio = tune_hyperparameters_scipy(interval_df, param_grid, initial_capital, num_starts)\n",
    "            optimized_params.append({\n",
    "                'start': start,\n",
    "                'end': end,\n",
    "                'params': best_params,\n",
    "                'sharpe_ratio': best_sharpe_ratio,\n",
    "            })\n",
    "\n",
    "        return pd.DataFrame(optimized_params)\n",
    "\n",
    "def tune_hyperparameters_scipy(price_df, param_grid, initial_capital=100000, num_starts=10):\n",
    "    best_sharpe_ratio, best_net_profit, best_params = -np.inf, -np.inf, None\n",
    "\n",
    "    param_space = [\n",
    "        param_grid['volatility_period'],\n",
    "        param_grid['upper_barrier_factor'],\n",
    "        param_grid['lower_barrier_factor'],\n",
    "        param_grid['vertical_barrier'],\n",
    "        param_grid['barrier_type'],\n",
    "        param_grid['touch_type']\n",
    "    ]\n",
    "\n",
    "    bounds = [(0, len(space) - 1) for space in param_space]\n",
    "\n",
    "    def bounds_to_params(x):\n",
    "        return {key: space[int(idx)] for key, space, idx in zip(param_grid.keys(), param_space, x)}\n",
    "\n",
    "    def objective_wrapper(x):\n",
    "        params = bounds_to_params(x)\n",
    "        return sharpe_ratio_objective(params, price_df, initial_capital)\n",
    "\n",
    "    for _ in tqdm(range(num_starts), desc=\"Optimizing\"):\n",
    "        initial_guess = [np.random.randint(len(space)) for space in param_space]\n",
    "        result = minimize(objective_wrapper, initial_guess, method='SLSQP', bounds=bounds)\n",
    "\n",
    "        if result.success and -result.fun > best_sharpe_ratio:\n",
    "            best_sharpe_ratio = -result.fun\n",
    "            best_params = bounds_to_params(result.x)\n",
    "\n",
    "    return best_params, best_sharpe_ratio\n",
    "\n",
    "def sharpe_ratio_objective(params, price_df, initial_capital):\n",
    "    labeler = TripleBarrierLabeler(**params)\n",
    "    labeler.fit(price_df)\n",
    "    labeled_df = labeler.transform()\n",
    "    labeled_df.set_index(price_df.index, inplace=True)\n",
    "    sharpe_ratio = strategize_and_measure(labeled_df, init_capital=initial_capital)\n",
    "    return -sharpe_ratio  # Minimize negative Sharpe Ratio to maximize Sharpe Ratio\n",
    "\n",
    "def strategize_and_measure(price_df, init_capital=1000, fee=0.006):\n",
    "    entries = price_df[\"label\"] > 1\n",
    "    short_entries = price_df[\"label\"] < 1\n",
    "    # Calculate the percentage changes for TP and SL\n",
    "    price_df['tp_stop'] = (price_df['upper_barrier'] - price_df['close']) / price_df['close']\n",
    "    price_df['sl_stop'] = (price_df['close'] - price_df['lower_barrier']) / price_df['close']\n",
    "    # Replace negative values with 0\n",
    "    price_df['tp_stop'] = price_df['tp_stop'].apply(lambda x: max(x, 0))\n",
    "    price_df['sl_stop'] = price_df['sl_stop'].apply(lambda x: max(x, 0))\n",
    "\n",
    "    # Run the backtest\n",
    "    pf = vbt.Portfolio.from_signals(\n",
    "        close=price_df['close'],\n",
    "        entries=entries,\n",
    "        short_entries=short_entries,\n",
    "        # size=size,\n",
    "        tp_stop=price_df['tp_stop'],\n",
    "        sl_stop=price_df['sl_stop'],\n",
    "        init_cash=1000,  # Initial cash value\n",
    "        fees=fee,  # Commission fees (0.5%)\n",
    "        freq=\"D\"\n",
    "    )\n",
    "\n",
    "    return pf.sharpe_ratio()\n",
    "\n",
    "def compute_metrics_classification(labels, preds, probs, metrics_to_return=None, average=\"macro\", multi_class=\"ovr\"):\n",
    "    \"\"\"\n",
    "    Compute classification metrics based on the model's predictions and the true labels.\n",
    "\n",
    "    Args:\n",
    "    labels (any): The true labels.\n",
    "    preds (any): The model's predictions.\n",
    "    probs (any): The model's probabilities\n",
    "    metrics_to_return (list): List of metric names to compute and return.\n",
    "\n",
    "    Returns:\n",
    "    dict: The computed classification metrics.\n",
    "    \"\"\"\n",
    "    if metrics_to_return is None:\n",
    "        metrics_to_return = [\"accuracy\", \"f1\", \"precision\", \"recall\", \"roc_score\", \"confusion_matrix\"]\n",
    "\n",
    "    metrics = {}\n",
    "\n",
    "    if \"precision\" in metrics_to_return or \"recall\" in metrics_to_return or \"f1\" in metrics_to_return:\n",
    "        precision, recall, f1, _ = precision_recall_fscore_support(labels, preds, average=average)\n",
    "        if \"precision\" in metrics_to_return:\n",
    "            metrics[\"precision\"] = precision\n",
    "        if \"recall\" in metrics_to_return:\n",
    "            metrics[\"recall\"] = recall\n",
    "        if \"f1\" in metrics_to_return:\n",
    "            metrics[\"f1\"] = f1\n",
    "\n",
    "    if \"accuracy\" in metrics_to_return:\n",
    "        metrics[\"accuracy\"] = accuracy_score(labels, preds)\n",
    "\n",
    "    if \"roc_score\" in metrics_to_return:\n",
    "        metrics[\"roc_score\"] = roc_auc_score(labels, probs, multi_class=multi_class)\n",
    "\n",
    "    if \"confusion_matrix\" in metrics_to_return:\n",
    "        metrics[\"confusion_matrix\"] = confusion_matrix(labels, preds)\n",
    "\n",
    "    return metrics\n",
    "\n",
    "\n",
    "def pandas_data_loader(addr: str, columns: List[str], *transforms: Callable[[pd.DataFrame], pd.DataFrame]) -> pd.DataFrame:\n",
    "    # Load the data from the CSV file\n",
    "    df = pd.read_csv(addr, usecols=columns)\n",
    "\n",
    "    # Apply each transform to the DataFrame\n",
    "    for transform in transforms:\n",
    "        df = transform(df)\n",
    "\n",
    "    return df\n",
    "\n",
    "# Transform index to datetime\n",
    "def index_to_datetime(df, unit=\"s\"):\n",
    "    df.index = pd.to_datetime(df.index, unit=unit)\n",
    "    return df\n",
    "# Transform col to index\n",
    "to_index = lambda col, df: df.set_index(col)\n",
    "# Rename text_plit to text\n",
    "rename = lambda original, new, df: df.rename(columns={original: new})"
   ]
  },
  {
   "cell_type": "code",
   "execution_count": 37,
   "id": "0b29d10c-f562-4e2a-9556-e0f4e6f56f3d",
   "metadata": {},
   "outputs": [],
   "source": [
    "# @title load price data\n",
    "address = \"../raw/bitcoin_2015-01-01_2022-01-01.csv\" # @param {\"type\":\"string\",\"placeholder\":\"./raw/daily-2020.csv\"}\n",
    "# Loading the price data\n",
    "columns = [\"timestamp\", \"close\", \"open\", \"high\", \"low\", \"volume\"]\n",
    "price_df = pandas_data_loader(address, columns, partial(to_index, \"timestamp\"), partial(index_to_datetime, unit=None))\n",
    "price_df = price_df.sort_index()\n",
    "price_df = price_df[:\"2021-02-01\"]"
   ]
  },
  {
   "cell_type": "code",
   "execution_count": 38,
   "id": "4629e6ee-08ad-4259-9913-ee176d1aafab",
   "metadata": {},
   "outputs": [],
   "source": [
    "# @title load price data\n",
    "address = \"../raw/86400.csv\" # @param {\"type\":\"string\",\"placeholder\":\"./raw/daily-2020.csv\"}\n",
    "# Loading the price data\n",
    "columns = [\"timestamp\", \"close\", \"open\", \"high\", \"low\", \"volume\"]\n",
    "new_price_df = pandas_data_loader(address, columns, partial(to_index, \"timestamp\"), partial(index_to_datetime, unit='s'))\n",
    "new_price_df = new_price_df.sort_index()\n",
    "price_df = price_df[:\"2021-02-01\"]"
   ]
  },
  {
   "cell_type": "code",
   "execution_count": 5,
   "id": "c9c61186-3794-49e4-8c92-0742614f31ff",
   "metadata": {},
   "outputs": [],
   "source": [
    "price_df = pd.concat([price_df, new_price_df[\"2022-01-02\":]])"
   ]
  },
  {
   "cell_type": "code",
   "execution_count": 6,
   "id": "61196a12-38a2-4b6e-b45c-ece8184b44fd",
   "metadata": {},
   "outputs": [],
   "source": [
    "# @title load text data\n",
    "address = \"../raw/impact_labeled.csv\" # @param {\"type\":\"string\",\"placeholder\":\"./raw/labeled_tweets.csv\"}\n",
    "columns = [\"text\", \"impact_label\", \"date\"]\n",
    "impact_df = pandas_data_loader(address, columns, partial(to_index, \"date\"), partial(index_to_datetime, unit='ns'), partial(rename, \"text_split\", \"text\"), partial(rename, \"impact_label\", \"impact\"))\n",
    "impact_df = impact_df[:\"2021-01-01\"]"
   ]
  },
  {
   "cell_type": "code",
   "execution_count": 7,
   "id": "69b23f20-eb21-4242-ba0b-0ba559344bda",
   "metadata": {},
   "outputs": [],
   "source": [
    "# @title load text data\n",
    "address = \"../raw/new_tweets.csv\" # @param {\"type\":\"string\",\"placeholder\":\"./raw/labeled_tweets.csv\"}\n",
    "columns = [\"text\", \"predictions\", \"day\"]\n",
    "new_impact_df = pandas_data_loader(address, columns, partial(to_index, \"day\"), partial(index_to_datetime, unit='ns'), partial(rename, \"predictions\", \"impact\"), partial(rename, \"text_split\", \"text\"))\n",
    "new_impact_df = new_impact_df[:\"2021-01-01\"]"
   ]
  },
  {
   "cell_type": "code",
   "execution_count": 8,
   "id": "c9f49eac-0460-4e74-922b-7f406314c5a7",
   "metadata": {},
   "outputs": [],
   "source": [
    "impact_df = pd.concat([impact_df, new_impact_df])"
   ]
  },
  {
   "cell_type": "code",
   "execution_count": 9,
   "id": "3ae3649a-0136-4914-88a2-d781040e216c",
   "metadata": {},
   "outputs": [],
   "source": [
    "# @title load text data\n",
    "address = \"../raw/LSTM_preds.csv\" # @param {\"type\":\"string\",\"placeholder\":\"./raw/labeled_tweets.csv\"}\n",
    "columns = [\"timestamp\", \"y_true\", \"y_pred\"]\n",
    "lstm_df = pandas_data_loader(address, columns, partial(to_index, \"timestamp\"), partial(index_to_datetime, unit='ns'), partial(rename, \"y_pred\", \"prediction\"), partial(rename, \"y_true\", \"label\"))\n",
    "lstm_df = lstm_df[:\"2021-01-01\"]"
   ]
  },
  {
   "cell_type": "code",
   "execution_count": 10,
   "id": "34531f0b-3ada-4df1-800c-91bca198b849",
   "metadata": {},
   "outputs": [],
   "source": [
    "# Define the parameter grid\n",
    "param_grid = {\n",
    "    # 'volatility_period': [8, 9, 10, 11, 12, 13, 14, 15],\n",
    "    'upper_barrier_factor': [1.0, 1.1, 1.2, 1.3, 1.4, 1.5],\n",
    "    'lower_barrier_factor': [1.0, 1.1, 1.2, 1.3, 1.4, 1.5],\n",
    "    'vertical_barrier': [8, 9, 10, 11, 12, 13, 14, 15],\n",
    "    # 'barrier_type': ['volatility'],\n",
    "    # 'touch_type': ['HL']\n",
    "}"
   ]
  },
  {
   "cell_type": "code",
   "execution_count": null,
   "id": "4e442921-dcad-4843-97f3-15dea707dd44",
   "metadata": {},
   "outputs": [],
   "source": [
    "# Optimize parameters every six months\n",
    "optimized_params_df = optimize_parameters(price_df, param_grid, initial_capital=100000, num_starts=500, optimization_interval='6M')\n",
    "\n",
    "# Apply the optimized parameters to label the data\n",
    "labeled_df = pd.DataFrame()\n",
    "for _, row in optimized_params_df.iterrows():\n",
    "    start, end, params = row['start'], row['end'], row['params']\n",
    "    interval_df = price_df.loc[start:end]\n",
    "    labeler = TripleBarrierLabeler(**params)\n",
    "    labeler.fit(interval_df)\n",
    "    labeled_interval_df = labeler.transform()\n",
    "    labeled_df = pd.concat([labeled_df, labeled_interval_df])\n",
    "\n",
    "# Check the label distribution\n",
    "print(labeled_df.label.value_counts(), optimized_params_df.sharpe_ratio)"
   ]
  },
  {
   "cell_type": "code",
   "execution_count": 17,
   "id": "7d5ff29e-371e-43ac-94be-a9ae3bc8d8b4",
   "metadata": {},
   "outputs": [],
   "source": [
    "# labeled_df.to_csv(\"../raw/optimized_labeled.csv\")"
   ]
  },
  {
   "cell_type": "code",
   "execution_count": 39,
   "id": "fbeef053-548c-4855-be9a-b92fd5b09ef4",
   "metadata": {},
   "outputs": [],
   "source": [
    "# @title load price data\n",
    "address = \"../raw/optimized_labeled.csv\" # @param {\"type\":\"string\",\"placeholder\":\"./raw/daily-2020.csv\"}\n",
    "# Loading the price data\n",
    "columns = [\"timestamp\", \"close\", \"open\", \"high\", \"low\", \"volume\", \"label\"]\n",
    "labeled_df = pandas_data_loader(address, columns, partial(to_index, \"timestamp\"), partial(index_to_datetime, unit=None))\n",
    "labeled_df = labeled_df.sort_index()\n",
    "price_df = price_df[:\"2021-02-01\"]"
   ]
  },
  {
   "cell_type": "code",
   "execution_count": 40,
   "id": "c139aa62-ba59-4c68-9f3f-370b3432b577",
   "metadata": {},
   "outputs": [],
   "source": [
    "def generate_signal_and_size(row, bearish_threshold=1, bullish_threshold=1.1):\n",
    "    if row < bearish_threshold:\n",
    "        return 0, abs(row - bearish_threshold)  # Bearish signal and position size\n",
    "    elif row > bullish_threshold:\n",
    "        return 2, abs(row - bullish_threshold)  # Bullish signal and position size\n",
    "    else:\n",
    "        return 1, 0  # Neutral signal and position size"
   ]
  },
  {
   "cell_type": "code",
   "execution_count": 41,
   "id": "bb6987bd-4dad-4e80-82ff-52c4fd1857c3",
   "metadata": {},
   "outputs": [],
   "source": [
    "# Assuming impact_df is your DataFrame\n",
    "impact_mean = impact_df[\"impact\"].groupby(impact_df.index).mean()\n",
    "impact_mean = pd.DataFrame(impact_mean)\n",
    "impact_mean[\"prediction\"], impact_mean[\"position_size\"] = zip(*impact_mean[\"impact\"].apply(generate_signal_and_size))\n",
    "    \n",
    "# Rename columns to match the desired output\n",
    "impact_mean = impact_mean.rename(columns={\"impact\": \"mean_impact\"})\n",
    "impact_mean = impact_mean[[\"prediction\", \"position_size\"]]"
   ]
  },
  {
   "cell_type": "code",
   "execution_count": 42,
   "id": "39578a68-a012-40b8-9c86-a0e8349fe4ae",
   "metadata": {},
   "outputs": [],
   "source": [
    "def calculate_majority_confidence(labels):\n",
    "    count = Counter(labels)\n",
    "    majority_label, majority_count = count.most_common(1)[0]\n",
    "    total_count = sum(count.values())\n",
    "    confidence = majority_count / total_count\n",
    "    return majority_label, confidence"
   ]
  },
  {
   "cell_type": "code",
   "execution_count": 43,
   "id": "f1a37e27-2700-42b8-96c7-613ca894351d",
   "metadata": {},
   "outputs": [],
   "source": [
    "# Group by date and apply the function to get majority label and confidence\n",
    "majority_data = impact_df.groupby(impact_df.index)[\"impact\"].apply(calculate_majority_confidence)\n",
    "majority_df = pd.DataFrame(majority_data.tolist(), index=majority_data.index, columns=[\"signal\", \"confidence\"])\n",
    "\n",
    "mapping = {1: 0, 0: -1, 2: 1}\n",
    "majority_df['signal'] = majority_df['signal'].map(mapping)\n",
    "\n",
    "# Calculate position size based on confidence\n",
    "majority_df[\"position_size\"] = majority_df[\"confidence\"]\n",
    "\n",
    "# Rename columns to match the desired output\n",
    "impact_majority = majority_df[[\"signal\", \"position_size\"]]"
   ]
  },
  {
   "cell_type": "code",
   "execution_count": 44,
   "id": "a79dfe53-a0db-4929-90bf-f316d95ffc40",
   "metadata": {},
   "outputs": [],
   "source": [
    "mapping = {0: 1, -1: 0, 1: 2}\n",
    "majority_df[\"prediction\"] = majority_df.signal.map(mapping)"
   ]
  },
  {
   "cell_type": "code",
   "execution_count": 45,
   "id": "40a23dd2-a925-4248-8ef2-d46f351ed586",
   "metadata": {},
   "outputs": [],
   "source": [
    "labels = labeled_df[[\"label\"]]"
   ]
  },
  {
   "cell_type": "code",
   "execution_count": 46,
   "id": "f74c72c3-19ba-4b15-84d4-8483a0d16a78",
   "metadata": {},
   "outputs": [],
   "source": [
    "majority_labeled = labels.merge(majority_df, left_index=True, right_index=True, how=\"left\")\n",
    "majority_labeled.dropna(inplace=True)"
   ]
  },
  {
   "cell_type": "code",
   "execution_count": 47,
   "id": "6136d1f4-4da8-413b-b918-89b2d184660a",
   "metadata": {},
   "outputs": [],
   "source": [
    "mean_labeled = labels.merge(impact_mean, left_index=True, right_index=True, how=\"left\")\n",
    "mean_labeled.dropna(inplace=True)"
   ]
  },
  {
   "cell_type": "code",
   "execution_count": 48,
   "id": "0dfa0db4-199f-4311-b25f-af54ac5a0ce5",
   "metadata": {},
   "outputs": [],
   "source": [
    "lstm_labeled = labels.merge(lstm_df, left_index=True, right_index=True, how=\"left\")\n",
    "lstm_labeled.dropna(inplace=True)"
   ]
  },
  {
   "cell_type": "code",
   "execution_count": 49,
   "id": "80e7a7b5-9834-4c00-b084-da944420b9be",
   "metadata": {},
   "outputs": [
    {
     "data": {
      "text/plain": [
       "{'precision': 0.6087946578462774,\n",
       " 'recall': 0.5698054993086049,\n",
       " 'f1': 0.5377163704743758,\n",
       " 'accuracy': 0.5306911551474142}"
      ]
     },
     "execution_count": 49,
     "metadata": {},
     "output_type": "execute_result"
    }
   ],
   "source": [
    "metrics = [\"accuracy\", \"precision\", \"recall\", \"f1\"]\n",
    "compute_metrics_classification(majority_labeled[\"label\"], majority_labeled[\"prediction\"], [], metrics_to_return=metrics)"
   ]
  },
  {
   "cell_type": "code",
   "execution_count": 50,
   "id": "0560409f-8092-4dc5-b43b-5e2a5455a885",
   "metadata": {},
   "outputs": [
    {
     "data": {
      "text/plain": [
       "{'precision': 0.5621785906891708,\n",
       " 'recall': 0.5680976986360009,\n",
       " 'f1': 0.558244734234471,\n",
       " 'accuracy': 0.5766070565490575}"
      ]
     },
     "execution_count": 50,
     "metadata": {},
     "output_type": "execute_result"
    }
   ],
   "source": [
    "metrics = [\"accuracy\", \"precision\", \"recall\", \"f1\"]\n",
    "compute_metrics_classification(mean_labeled[\"label\"], mean_labeled[\"prediction\"], [], metrics_to_return=metrics)"
   ]
  },
  {
   "cell_type": "code",
   "execution_count": 51,
   "id": "a7696e70-ea0b-402a-81f5-a149eb7e2952",
   "metadata": {},
   "outputs": [
    {
     "data": {
      "text/plain": [
       "{'precision': 0.5835260512990075,\n",
       " 'recall': 0.5514774721580084,\n",
       " 'f1': 0.5594628618884583,\n",
       " 'accuracy': 0.5901001112347052}"
      ]
     },
     "execution_count": 51,
     "metadata": {},
     "output_type": "execute_result"
    }
   ],
   "source": [
    "metrics = [\"accuracy\", \"precision\", \"recall\", \"f1\"]\n",
    "compute_metrics_classification(lstm_df[\"label\"], lstm_df[\"prediction\"], [], metrics_to_return=metrics)"
   ]
  },
  {
   "cell_type": "code",
   "execution_count": 52,
   "id": "e1a3a801-d774-40e1-935f-9e893c756ebb",
   "metadata": {},
   "outputs": [
    {
     "data": {
      "text/plain": [
       "Text(0.5, 1.0, 'Confusion Matrix')"
      ]
     },
     "execution_count": 52,
     "metadata": {},
     "output_type": "execute_result"
    },
    {
     "data": {
      "image/png": "[encoded data removed]",
      "text/plain": [
       "<Figure size 1000x1000 with 2 Axes>"
      ]
     },
     "metadata": {},
     "output_type": "display_data"
    }
   ],
   "source": [
    "\"\"\"\n",
    "Plot the confusion matrix for the given labels and predictions.\n",
    "\n",
    "Args:\n",
    "output_dir (str): The directory to save the confusion matrix plot.\n",
    "labels (list): The true labels.\n",
    "preds (list): The predicted labels.\n",
    "\n",
    "Returns:\n",
    "None\n",
    "\"\"\"\n",
    "conf_matrix = confusion_matrix(majority_labeled[\"label\"], majority_labeled[\"prediction\"])\n",
    "disp = ConfusionMatrixDisplay(confusion_matrix=conf_matrix, display_labels=['Down', 'Neutral', 'Up'])\n",
    "fig, ax = plt.subplots(figsize=(10, 10))\n",
    "disp.plot(ax=ax, cmap='Blues', values_format='d')\n",
    "plt.title('Confusion Matrix')"
   ]
  },
  {
   "cell_type": "code",
   "execution_count": 53,
   "id": "451f18a4-6e53-4656-bd23-a3ee041484ac",
   "metadata": {},
   "outputs": [],
   "source": [
    "# Extract labels and predictions\n",
    "y_true_majority = majority_labeled['label']\n",
    "y_pred_majority = majority_labeled['prediction']"
   ]
  },
  {
   "cell_type": "code",
   "execution_count": 54,
   "id": "855f1c7c-9713-46e8-99d2-730dfadf37c0",
   "metadata": {},
   "outputs": [],
   "source": [
    "# Extract labels and predictions\n",
    "y_true_mean = mean_labeled['label']\n",
    "y_pred_mean = mean_labeled['prediction']"
   ]
  },
  {
   "cell_type": "code",
   "execution_count": 55,
   "id": "973c971c-a997-43a3-8c21-cf0a321cb0a7",
   "metadata": {},
   "outputs": [],
   "source": [
    "y_true_lstm = lstm_df[\"label\"]\n",
    "y_pred_lstm = lstm_df[\"prediction\"]"
   ]
  },
  {
   "cell_type": "code",
   "execution_count": 56,
   "id": "97e3b11e-68cd-45ee-8a7a-ed6eb4ac367a",
   "metadata": {},
   "outputs": [],
   "source": [
    "import numpy as np\n",
    "\n",
    "def calculate_tp_fp_rates(y, x):\n",
    "    # Convert inputs to numpy arrays for easier manipulation\n",
    "    y = np.array(y)\n",
    "    x = np.array(x)\n",
    "    \n",
    "    # Define labels\n",
    "    bullish_label = 2\n",
    "    bearish_label = 0\n",
    "    \n",
    "    # Calculate True Positives, False Positives, False Negatives, and True Negatives for bearish against only bullish\n",
    "    tp_bearish = np.sum((y == bearish_label) & (x == bearish_label))\n",
    "    fp_bearish = np.sum((y == bullish_label) & (x == bearish_label))\n",
    "    fn_bearish = np.sum((y == bearish_label) & (x == bullish_label))\n",
    "    tn_bearish = np.sum((y == bullish_label) & (x == bullish_label))\n",
    "    \n",
    "    # Calculate True Positives, False Positives, False Negatives, and True Negatives for bullish against only bearish\n",
    "    tp_bullish = np.sum((y == bullish_label) & (x == bullish_label))\n",
    "    fp_bullish = np.sum((y == bearish_label) & (x == bullish_label))\n",
    "    fn_bullish = np.sum((y == bullish_label) & (x == bearish_label))\n",
    "    tn_bullish = np.sum((y == bearish_label) & (x == bearish_label))\n",
    "    \n",
    "    # Calculate rates\n",
    "    tpr_bearish = tp_bearish / (tp_bearish + fn_bearish) if (tp_bearish + fn_bearish) > 0 else 0\n",
    "    fpr_bearish = fp_bearish / (fp_bearish + tn_bearish) if (fp_bearish + tn_bearish) > 0 else 0\n",
    "    tpr_bullish = tp_bullish / (tp_bullish + fn_bullish) if (tp_bullish + fn_bullish) > 0 else 0\n",
    "    fpr_bullish = fp_bullish / (fp_bullish + tn_bullish) if (fp_bullish + tn_bullish) > 0 else 0\n",
    "    \n",
    "    return {\n",
    "        'tp_bearish': tp_bearish,\n",
    "        'fp_bearish': fp_bearish,\n",
    "        'fn_bearish': fn_bearish,\n",
    "        'tn_bearish': tn_bearish,\n",
    "        'tpr_bearish': tpr_bearish,\n",
    "        'fpr_bearish': fpr_bearish,\n",
    "        'tp_bullish': tp_bullish,\n",
    "        'fp_bullish': fp_bullish,\n",
    "        'fn_bullish': fn_bullish,\n",
    "        'tn_bullish': tn_bullish,\n",
    "        'tpr_bullish': tpr_bullish,\n",
    "        'fpr_bullish': fpr_bullish\n",
    "    }"
   ]
  },
  {
   "cell_type": "code",
   "execution_count": 57,
   "id": "67754aa7-fd8a-4bbb-9bf3-e6978f76a671",
   "metadata": {},
   "outputs": [
    {
     "data": {
      "text/plain": [
       "{'tp_bearish': 321,\n",
       " 'fp_bearish': 57,\n",
       " 'fn_bearish': 78,\n",
       " 'tn_bearish': 419,\n",
       " 'tpr_bearish': 0.8045112781954887,\n",
       " 'fpr_bearish': 0.11974789915966387,\n",
       " 'tp_bullish': 419,\n",
       " 'fp_bullish': 78,\n",
       " 'fn_bullish': 57,\n",
       " 'tn_bullish': 321,\n",
       " 'tpr_bullish': 0.8802521008403361,\n",
       " 'fpr_bullish': 0.19548872180451127}"
      ]
     },
     "execution_count": 57,
     "metadata": {},
     "output_type": "execute_result"
    }
   ],
   "source": [
    "majority_rates = calculate_tp_fp_rates(y_true_majority, y_pred_majority)\n",
    "majority_rates"
   ]
  },
  {
   "cell_type": "code",
   "execution_count": 58,
   "id": "e3caba92-c3ef-4097-bcf6-a5ca2ee29ecd",
   "metadata": {},
   "outputs": [
    {
     "data": {
      "text/plain": [
       "{'tp_bearish': 394,\n",
       " 'fp_bearish': 177,\n",
       " 'fn_bearish': 112,\n",
       " 'tn_bearish': 571,\n",
       " 'tpr_bearish': 0.7786561264822134,\n",
       " 'fpr_bearish': 0.23663101604278075,\n",
       " 'tp_bullish': 571,\n",
       " 'fp_bullish': 112,\n",
       " 'fn_bullish': 177,\n",
       " 'tn_bullish': 394,\n",
       " 'tpr_bullish': 0.7633689839572193,\n",
       " 'fpr_bullish': 0.22134387351778656}"
      ]
     },
     "execution_count": 58,
     "metadata": {},
     "output_type": "execute_result"
    }
   ],
   "source": [
    "mean_rates = calculate_tp_fp_rates(y_true_mean, y_pred_mean)\n",
    "mean_rates"
   ]
  },
  {
   "cell_type": "code",
   "execution_count": 59,
   "id": "07ead29d-973d-4bf3-8766-63838b9c2a9a",
   "metadata": {},
   "outputs": [
    {
     "data": {
      "text/plain": [
       "{'tp_bearish': 135,\n",
       " 'fp_bearish': 57,\n",
       " 'fn_bearish': 128,\n",
       " 'tn_bearish': 536,\n",
       " 'tpr_bearish': 0.5133079847908745,\n",
       " 'fpr_bearish': 0.09612141652613827,\n",
       " 'tp_bullish': 536,\n",
       " 'fp_bullish': 128,\n",
       " 'fn_bullish': 57,\n",
       " 'tn_bullish': 135,\n",
       " 'tpr_bullish': 0.9038785834738617,\n",
       " 'fpr_bullish': 0.4866920152091255}"
      ]
     },
     "execution_count": 59,
     "metadata": {},
     "output_type": "execute_result"
    }
   ],
   "source": [
    "lstm_rates = calculate_tp_fp_rates(y_true_lstm, y_pred_lstm)\n",
    "lstm_rates"
   ]
  },
  {
   "cell_type": "code",
   "execution_count": 64,
   "id": "3bca63c5-8145-4e4e-9343-a269a113956f",
   "metadata": {},
   "outputs": [],
   "source": [
    "def plot_tp_fp(majority_rates, mean_rates):\n",
    "    # Create a scatter plot\n",
    "    plt.figure(figsize=(12, 5))\n",
    "    plt.scatter(majority_rates['fp_bearish'], majority_rates['tp_bearish'], color='purple', label='Majority Bearish')\n",
    "    plt.scatter(majority_rates['fp_bullish'], majority_rates['tp_bullish'], color='cyan', label='Majority Bullish')\n",
    "    plt.scatter(mean_rates['fp_bearish'], mean_rates['tp_bearish'], color='orange', label='Mean Bearish')\n",
    "    plt.scatter(mean_rates['fp_bullish'], mean_rates['tp_bullish'], color='lime', label='Mean Bullish')\n",
    "\n",
    "    majority_bearish_precision = majority_rates['tp_bearish'] / (majority_rates['fp_bearish'] + majority_rates['tp_bearish']) * 100\n",
    "    majority_bullish_precision = majority_rates['tp_bullish'] / (majority_rates['fp_bullish'] + majority_rates['tp_bullish']) * 100\n",
    "    mean_bullish_precision = mean_rates['tp_bullish'] / (mean_rates['fp_bullish'] + mean_rates['tp_bullish']) * 100\n",
    "    mean_bearish_precision = mean_rates['tp_bearish'] / (mean_rates['fp_bearish'] + mean_rates['tp_bearish']) * 100\n",
    "\n",
    "    # Annotate points\n",
    "    plt.annotate(f'Majority Bearish: {round(majority_bearish_precision, 2)}% Precision', (majority_rates['fp_bearish'] + 10, majority_rates['tp_bearish'] + 10), fontsize=8, color='black')\n",
    "    plt.annotate(f'Majority Bullish: {round(majority_bullish_precision, 2)}% Precision', (majority_rates['fp_bullish'] + 10, majority_rates['tp_bullish'] + 10), fontsize=8, color='black')\n",
    "    plt.annotate(f'Mean Bearish: {round(mean_bearish_precision, 2)}% Precision', (mean_rates['fp_bearish'] + 10, mean_rates['tp_bearish'] + 10), fontsize=8, color='black')\n",
    "    plt.annotate(f'Mean Bullish: {round(mean_bullish_precision, 2)}% Precision', (mean_rates['fp_bullish'] + 10, mean_rates['tp_bullish'] - 10), fontsize=8, color='black')\n",
    "\n",
    "    # Add labels and title\n",
    "    plt.xlabel('False Positive')\n",
    "    plt.ylabel('True Positive')\n",
    "    plt.legend(loc=\"lower right\")\n",
    "    plt.grid(True)\n",
    "    plt.xlim(0, 600)\n",
    "    plt.ylim(0, 600)\n",
    "    plt.savefig(\"./true_p_false_p.png\")\n",
    "    plt.show()"
   ]
  },
  {
   "cell_type": "code",
   "execution_count": 65,
   "id": "829472bb-9130-4e75-be71-9d6cf9c82785",
   "metadata": {},
   "outputs": [
    {
     "data": {
      "image/png": "[encoded data removed]",
      "text/plain": [
       "<Figure size 1200x500 with 1 Axes>"
      ]
     },
     "metadata": {},
     "output_type": "display_data"
    }
   ],
   "source": [
    "plot_tp_fp(majority_rates, mean_rates)"
   ]
  },
  {
   "cell_type": "code",
   "execution_count": 191,
   "id": "995ff08c-6903-44a1-99ab-5e7d7fd991b4",
   "metadata": {},
   "outputs": [],
   "source": [
    "def plot_precision_recall(majority_rates, mean_rates, lstm_rates):\n",
    "    # Calculate precision, recall, and F1 Score for each method\n",
    "    def calculate_f1(precision, recall):\n",
    "        return 2 * (precision * recall) / (precision + recall) if (precision + recall) != 0 else 0\n",
    "\n",
    "    # Majority rates\n",
    "    majority_bearish_precision = majority_rates['tp_bearish'] / (majority_rates['fp_bearish'] + majority_rates['tp_bearish'])\n",
    "    majority_bearish_recall = majority_rates['tp_bearish'] / (majority_rates['tp_bearish'] + majority_rates['fn_bearish'])\n",
    "    majority_bearish_f1 = calculate_f1(majority_bearish_precision, majority_bearish_recall)\n",
    "\n",
    "    majority_bullish_precision = majority_rates['tp_bullish'] / (majority_rates['fp_bullish'] + majority_rates['tp_bullish'])\n",
    "    majority_bullish_recall = majority_rates['tp_bullish'] / (majority_rates['tp_bullish'] + majority_rates['fn_bullish'])\n",
    "    majority_bullish_f1 = calculate_f1(majority_bullish_precision, majority_bullish_recall)\n",
    "\n",
    "    # Mean rates\n",
    "    mean_bearish_precision = mean_rates['tp_bearish'] / (mean_rates['fp_bearish'] + mean_rates['tp_bearish'])\n",
    "    mean_bearish_recall = mean_rates['tp_bearish'] / (mean_rates['tp_bearish'] + mean_rates['fn_bearish'])\n",
    "    mean_bearish_f1 = calculate_f1(mean_bearish_precision, mean_bearish_recall)\n",
    "\n",
    "    mean_bullish_precision = mean_rates['tp_bullish'] / (mean_rates['fp_bullish'] + mean_rates['tp_bullish'])\n",
    "    mean_bullish_recall = mean_rates['tp_bullish'] / (mean_rates['tp_bullish'] + mean_rates['fn_bullish'])\n",
    "    mean_bullish_f1 = calculate_f1(mean_bullish_precision, mean_bullish_recall)\n",
    "\n",
    "    # Fusion (LSTM) rates\n",
    "    fusion_bearish_precision = lstm_rates['tp_bearish'] / (lstm_rates['fp_bearish'] + lstm_rates['tp_bearish'])\n",
    "    fusion_bearish_recall = lstm_rates['tp_bearish'] / (lstm_rates['tp_bearish'] + lstm_rates['fn_bearish'])\n",
    "    fusion_bearish_f1 = calculate_f1(fusion_bearish_precision, fusion_bearish_recall)\n",
    "\n",
    "    fusion_bullish_precision = lstm_rates['tp_bullish'] / (lstm_rates['fp_bullish'] + lstm_rates['tp_bullish'])\n",
    "    fusion_bullish_recall = lstm_rates['tp_bullish'] / (lstm_rates['tp_bullish'] + lstm_rates['fn_bullish'])\n",
    "    fusion_bullish_f1 = calculate_f1(fusion_bullish_precision, fusion_bullish_recall)\n",
    "\n",
    "    # Create the scatter plot with different markers\n",
    "    plt.figure(figsize=(5, 5))\n",
    "    plt.scatter(majority_bearish_recall, majority_bearish_precision, color='purple', marker='o', label='Majority Bearish')\n",
    "    plt.scatter(majority_bullish_recall, majority_bullish_precision, color='cyan', marker='s', label='Majority Bullish')\n",
    "    plt.scatter(mean_bearish_recall, mean_bearish_precision, color='orange', marker='^', label='Mean Bearish')\n",
    "    plt.scatter(mean_bullish_recall, mean_bullish_precision, color='lime', marker='v', label='Mean Bullish')\n",
    "    plt.scatter(fusion_bearish_recall, fusion_bearish_precision, color='pink', marker='D', label='Fusion Bearish')\n",
    "    plt.scatter(fusion_bullish_recall, fusion_bullish_precision, color='crimson', marker='X', label='Fusion Bullish')\n",
    "\n",
    "    # Add arrows for annotations\n",
    "    plt.annotate(f'Majority Bullish F1: {majority_bullish_f1 * 100:.1f}%', xy=(majority_bullish_recall, majority_bullish_precision),\n",
    "                 xytext=(majority_bullish_recall - 0.27, majority_bullish_precision + 0.08),\n",
    "                 fontsize=8, color='black', arrowprops=dict(arrowstyle='->', lw=0.5))\n",
    "    plt.annotate(f'Majority Bearish F1: {majority_bearish_f1 * 100:.1f}%', xy=(majority_bearish_recall, majority_bearish_precision),\n",
    "                 xytext=(majority_bearish_recall - 0.37, majority_bearish_precision + 0.03),\n",
    "                 fontsize=8, color='black', arrowprops=dict(arrowstyle='->', lw=0.5))\n",
    "    plt.annotate(f'Mean Bearish F1: {mean_bearish_f1 * 100:.1f}%', xy=(mean_bearish_recall, mean_bearish_precision),\n",
    "                 xytext=(mean_bearish_recall - 0.39, mean_bearish_precision - 0.06),\n",
    "                 fontsize=8, color='black', arrowprops=dict(arrowstyle='->', lw=0.5))\n",
    "    plt.annotate(f'Mean Bullish F1: {mean_bullish_f1 * 100:.1f}%', \n",
    "                 (mean_bullish_recall - 0.36, mean_bullish_precision - 0.01), fontsize=8, color='black')\n",
    "    plt.annotate(f'Fusion Bullish F1: {fusion_bullish_f1 * 100:.1f}%', xy=(fusion_bullish_recall, fusion_bullish_precision),\n",
    "                 xytext=(fusion_bullish_recall - 0.35, fusion_bullish_precision - 0.06),\n",
    "                 fontsize=8, color='black', arrowprops=dict(arrowstyle='->', lw=0.5))\n",
    "    plt.annotate(f'Fusion Bearish F1: {fusion_bearish_f1 * 100:.1f}%', \n",
    "                 (fusion_bearish_recall - 0.39, fusion_bearish_precision - 0.01), fontsize=8, color='black')\n",
    "\n",
    "    # Add labels and title\n",
    "    plt.xlabel('Recall')\n",
    "    plt.ylabel('Precision')\n",
    "    plt.legend(loc=\"lower left\")\n",
    "\n",
    "    # Transparent grid\n",
    "    plt.grid(True, alpha=0.3)  # Adjust grid transparency\n",
    "    plt.xlim(0, 1)  # Recall ranges from 0 to 1\n",
    "    plt.ylim(0, 1)  # Precision ranges from 0 to 1\n",
    "\n",
    "    # Save and display\n",
    "    plt.savefig(\"./precision_recall_scatter.png\")\n",
    "    plt.show()"
   ]
  },
  {
   "cell_type": "code",
   "execution_count": 192,
   "id": "0cc0a42f-79f3-46a9-aeb4-1219aa635003",
   "metadata": {},
   "outputs": [
    {
     "data": {
      "image/png": "[encoded data removed]",
      "text/plain": [
       "<Figure size 500x500 with 1 Axes>"
      ]
     },
     "metadata": {},
     "output_type": "display_data"
    }
   ],
   "source": [
    "plot_precision_recall(majority_rates, mean_rates, lstm_rates)"
   ]
  },
  {
   "cell_type": "code",
   "execution_count": 102,
   "id": "cc69c0e5-1a22-4616-8131-54833ab90751",
   "metadata": {},
   "outputs": [],
   "source": [
    "# Create a mask for the conditions\n",
    "mask = (\n",
    "    ((y_true_majority == 2) & (y_pred_majority == 2)) |  # Correctly predicted bullish\n",
    "    ((y_true_majority == 0) & (y_pred_majority == 0)) |  # Correctly predicted bearish\n",
    "    ((y_true_majority == 2) & (y_pred_majority == 0)) |  # Predicted bearish but actually bullish\n",
    "    ((y_true_majority == 0) & (y_pred_majority == 2))    # Predicted bullish but actually bearish\n",
    ")\n",
    "\n",
    "# Apply the mask to filter the series\n",
    "y_true_majority_filtered = y_true_majority[mask]\n",
    "y_pred_majority_filtered = y_pred_majority[mask]"
   ]
  },
  {
   "cell_type": "code",
   "execution_count": 103,
   "id": "50b28d8b-8ece-43fd-ad9d-ed39b34a43b5",
   "metadata": {},
   "outputs": [],
   "source": [
    "# Create a mask for the conditions\n",
    "mask = (\n",
    "    ((y_true_mean == 2) & (y_pred_mean == 2)) |  # Correctly predicted bullish\n",
    "    ((y_true_mean == 0) & (y_pred_mean == 0)) |  # Correctly predicted bearish\n",
    "    ((y_true_mean == 2) & (y_pred_mean == 0)) |  # Predicted bearish but actually bullish\n",
    "    ((y_true_mean == 0) & (y_pred_mean == 2))    # Predicted bullish but actually bearish\n",
    ")\n",
    "\n",
    "# Apply the mask to filter the series\n",
    "y_true_mean_filtered = y_true_mean[mask]\n",
    "y_pred_mean_filtered = y_pred_mean[mask]"
   ]
  },
  {
   "cell_type": "code",
   "execution_count": 104,
   "id": "c85f6e04-caf2-4c78-95bc-bd3307c68d36",
   "metadata": {},
   "outputs": [],
   "source": [
    "# Create a mask for the conditions\n",
    "mask = (\n",
    "    ((y_true_lstm == 2) & (y_pred_lstm == 2)) |  # Correctly predicted bullish\n",
    "    ((y_true_lstm == 0) & (y_pred_lstm == 0)) |  # Correctly predicted bearish\n",
    "    ((y_true_lstm == 2) & (y_pred_lstm == 0)) |  # Predicted bearish but actually bullish\n",
    "    ((y_true_lstm == 0) & (y_pred_lstm == 2))    # Predicted bullish but actually bearish\n",
    ")\n",
    "\n",
    "# Apply the mask to filter the series\n",
    "y_true_lstm_filtered = y_true_lstm[mask]\n",
    "y_pred_lstm_filtered = y_pred_lstm[mask]"
   ]
  },
  {
   "cell_type": "code",
   "execution_count": 105,
   "id": "d5a8170e-a911-4315-893f-72e268181a9e",
   "metadata": {},
   "outputs": [],
   "source": [
    "import numpy as np\n",
    "from sklearn.metrics import precision_score, recall_score, f1_score, accuracy_score\n",
    "\n",
    "def calculate_classification_metrics(y, x, pos_label=2):\n",
    "    \"\"\"\n",
    "    Calculate classification metrics between bullish and bearish labels.\n",
    "\n",
    "    Args:\n",
    "    y (array-like): True labels.\n",
    "    x (array-like): Predicted labels.\n",
    "\n",
    "    Returns:\n",
    "    dict: Dictionary containing precision, recall, F1-score, and accuracy.\n",
    "    \"\"\"\n",
    "    # Convert inputs to numpy arrays for easier manipulation\n",
    "    y = np.array(y)\n",
    "    x = np.array(x)\n",
    "\n",
    "    # Calculate metrics\n",
    "    precision = precision_score(y, x, pos_label=pos_label)\n",
    "    recall = recall_score(y, x, pos_label=pos_label)\n",
    "    f1 = f1_score(y, x, pos_label=pos_label)\n",
    "    accuracy = accuracy_score(y, x)\n",
    "    \n",
    "    return {\n",
    "        'precision': precision,\n",
    "        'recall': recall,\n",
    "        'f1': f1,\n",
    "        'accuracy': accuracy\n",
    "    }"
   ]
  },
  {
   "cell_type": "code",
   "execution_count": 106,
   "id": "5eb43ae1-7f65-4aeb-9722-b77673b8dd25",
   "metadata": {},
   "outputs": [
    {
     "data": {
      "text/plain": [
       "{'precision': 0.8421052631578947,\n",
       " 'recall': 0.7578947368421053,\n",
       " 'f1': 0.7977839335180056,\n",
       " 'accuracy': 0.7933962264150943}"
      ]
     },
     "execution_count": 106,
     "metadata": {},
     "output_type": "execute_result"
    }
   ],
   "source": [
    "metrics = calculate_classification_metrics(y_true_majority_filtered, y_pred_majority_filtered)\n",
    "metrics"
   ]
  },
  {
   "cell_type": "code",
   "execution_count": 56,
   "id": "301888cb-500a-412b-b5ec-8f847a48a8fa",
   "metadata": {},
   "outputs": [
    {
     "data": {
      "text/plain": [
       "{'precision': 0.7477148080438757,\n",
       " 'recall': 0.8346938775510204,\n",
       " 'f1': 0.7888138862102217,\n",
       " 'accuracy': 0.7933962264150943}"
      ]
     },
     "execution_count": 56,
     "metadata": {},
     "output_type": "execute_result"
    }
   ],
   "source": [
    "metrics = calculate_classification_metrics(y_true_majority_filtered, y_pred_majority_filtered, pos_label=0)\n",
    "metrics"
   ]
  },
  {
   "cell_type": "code",
   "execution_count": 57,
   "id": "61ffe1bf-68d6-4ebb-9479-35bc345a9f15",
   "metadata": {},
   "outputs": [
    {
     "data": {
      "text/plain": [
       "{'precision': 0.8383404864091559,\n",
       " 'recall': 0.6910377358490566,\n",
       " 'f1': 0.7575953458306399,\n",
       " 'accuracy': 0.7401247401247402}"
      ]
     },
     "execution_count": 57,
     "metadata": {},
     "output_type": "execute_result"
    }
   ],
   "source": [
    "metrics = calculate_classification_metrics(y_true_mean_filtered, y_pred_mean_filtered)\n",
    "metrics"
   ]
  },
  {
   "cell_type": "code",
   "execution_count": 58,
   "id": "e6d07be5-a31b-41b3-8c5a-378a3894d3c6",
   "metadata": {},
   "outputs": [
    {
     "data": {
      "text/plain": [
       "{'precision': 0.6478494623655914,\n",
       " 'recall': 0.8100840336134454,\n",
       " 'f1': 0.7199402539208365,\n",
       " 'accuracy': 0.7401247401247402}"
      ]
     },
     "execution_count": 58,
     "metadata": {},
     "output_type": "execute_result"
    }
   ],
   "source": [
    "metrics = calculate_classification_metrics(y_true_mean_filtered, y_pred_mean_filtered, pos_label=0)\n",
    "metrics"
   ]
  },
  {
   "cell_type": "code",
   "execution_count": 107,
   "id": "79243e8b-a2b2-4e23-91e6-edae4a70fdde",
   "metadata": {},
   "outputs": [
    {
     "data": {
      "text/plain": [
       "{'precision': 0.8072289156626506,\n",
       " 'recall': 0.9038785834738617,\n",
       " 'f1': 0.8528241845664281,\n",
       " 'accuracy': 0.7838785046728972}"
      ]
     },
     "execution_count": 107,
     "metadata": {},
     "output_type": "execute_result"
    }
   ],
   "source": [
    "metrics = calculate_classification_metrics(y_true_lstm_filtered, y_pred_lstm_filtered)\n",
    "metrics"
   ]
  },
  {
   "cell_type": "code",
   "execution_count": 108,
   "id": "98867e5d-8b7a-4d24-8c82-0beab1003d72",
   "metadata": {},
   "outputs": [
    {
     "data": {
      "text/plain": [
       "{'precision': 0.703125,\n",
       " 'recall': 0.5133079847908745,\n",
       " 'f1': 0.5934065934065934,\n",
       " 'accuracy': 0.7838785046728972}"
      ]
     },
     "execution_count": 108,
     "metadata": {},
     "output_type": "execute_result"
    }
   ],
   "source": [
    "metrics = calculate_classification_metrics(y_true_lstm_filtered, y_pred_lstm_filtered, pos_label=0)\n",
    "metrics"
   ]
  },
  {
   "cell_type": "code",
   "execution_count": 59,
   "id": "fc3d97e6-2c5f-4114-85c1-fb2de38b8ba7",
   "metadata": {},
   "outputs": [
    {
     "data": {
      "text/plain": [
       "array([[409,  81],\n",
       "       [138, 432]])"
      ]
     },
     "execution_count": 59,
     "metadata": {},
     "output_type": "execute_result"
    }
   ],
   "source": [
    "confusion_matrix(y_true_majority_filtered, y_pred_majority_filtered)"
   ]
  },
  {
   "cell_type": "code",
   "execution_count": 60,
   "id": "06ac00cf-4c50-4723-a010-5b94b1bd9d16",
   "metadata": {},
   "outputs": [
    {
     "data": {
      "text/plain": [
       "array([[482, 113],\n",
       "       [262, 586]])"
      ]
     },
     "execution_count": 60,
     "metadata": {},
     "output_type": "execute_result"
    }
   ],
   "source": [
    "confusion_matrix(y_true_mean_filtered, y_pred_mean_filtered)"
   ]
  },
  {
   "cell_type": "code",
   "execution_count": 109,
   "id": "876af4af-ee21-46ca-869a-d37bfc1c62f5",
   "metadata": {},
   "outputs": [
    {
     "data": {
      "text/plain": [
       "array([[135, 128],\n",
       "       [ 57, 536]])"
      ]
     },
     "execution_count": 109,
     "metadata": {},
     "output_type": "execute_result"
    }
   ],
   "source": [
    "confusion_matrix(y_true_lstm_filtered, y_pred_lstm_filtered)"
   ]
  },
  {
   "cell_type": "code",
   "execution_count": 61,
   "id": "6591f76c-4ca8-4938-b6bb-8140509179f0",
   "metadata": {},
   "outputs": [
    {
     "name": "stdout",
     "output_type": "stream",
     "text": [
      "Majority Bullish TPR: 0.76\n",
      "Majority Bullish FPR: 0.17\n",
      "Mean Bullish TPR: 0.69\n",
      "Mean Bullish FPR: 0.19\n"
     ]
    }
   ],
   "source": [
    "from sklearn.metrics import confusion_matrix\n",
    "\n",
    "# Calculate confusion matrix components for majority predictions\n",
    "tn_majority, fp_majority, fn_majority, tp_majority = confusion_matrix(y_true_majority_filtered, y_pred_majority_filtered, labels=[0, 2]).ravel()\n",
    "\n",
    "# Calculate TPR and FPR for majority predictions\n",
    "tpr_majority_bullish = tp_majority / (tp_majority + fn_majority)\n",
    "fpr_majority_bullish = fp_majority / (fp_majority + tn_majority)\n",
    "\n",
    "# Calculate confusion matrix components for mean predictions\n",
    "tn_mean, fp_mean, fn_mean, tp_mean = confusion_matrix(y_true_mean_filtered, y_pred_mean_filtered, labels=[0, 2]).ravel()\n",
    "\n",
    "# Calculate TPR and FPR for mean predictions\n",
    "tpr_mean_bullish = tp_mean / (tp_mean + fn_mean)\n",
    "fpr_mean_bullish = fp_mean / (fp_mean + tn_mean)\n",
    "\n",
    "# Print the results\n",
    "print(f\"Majority Bullish TPR: {tpr_majority_bullish:.2f}\")\n",
    "print(f\"Majority Bullish FPR: {fpr_majority_bullish:.2f}\")\n",
    "print(f\"Mean Bullish TPR: {tpr_mean_bullish:.2f}\")\n",
    "print(f\"Mean Bullish FPR: {fpr_mean_bullish:.2f}\")"
   ]
  },
  {
   "cell_type": "code",
   "execution_count": 67,
   "id": "71a652e4-11e4-47d3-b29e-c0f5336a04c2",
   "metadata": {},
   "outputs": [],
   "source": [
    "def plot_tpr_fpr(majority_rates, mean_rates):\n",
    "    # Calculate TPR and FPR for majority rates\n",
    "    majority_rates['tpr_bearish'] = majority_rates['tp_bearish'] / (majority_rates['tp_bearish'] + majority_rates['fn_bearish'])\n",
    "    majority_rates['fpr_bearish'] = majority_rates['fp_bearish'] / (majority_rates['fp_bearish'] + majority_rates['tn_bearish'])\n",
    "    majority_rates['tpr_bullish'] = majority_rates['tp_bullish'] / (majority_rates['tp_bullish'] + majority_rates['fn_bullish'])\n",
    "    majority_rates['fpr_bullish'] = majority_rates['fp_bullish'] / (majority_rates['fp_bullish'] + majority_rates['tn_bullish'])\n",
    "\n",
    "    # Calculate TPR and FPR for mean rates\n",
    "    mean_rates['tpr_bearish'] = mean_rates['tp_bearish'] / (mean_rates['tp_bearish'] + mean_rates['fn_bearish'])\n",
    "    mean_rates['fpr_bearish'] = mean_rates['fp_bearish'] / (mean_rates['fp_bearish'] + mean_rates['tn_bearish'])\n",
    "    mean_rates['tpr_bullish'] = mean_rates['tp_bullish'] / (mean_rates['tp_bullish'] + mean_rates['fn_bullish'])\n",
    "    mean_rates['fpr_bullish'] = mean_rates['fp_bullish'] / (mean_rates['fp_bullish'] + mean_rates['tn_bullish'])\n",
    "\n",
    "    # Create a scatter plot\n",
    "    plt.figure(figsize=(12, 5))\n",
    "    plt.scatter(majority_rates['fpr_bearish'], majority_rates['tpr_bearish'], color='purple', label='Majority Bearish')\n",
    "    plt.scatter(majority_rates['fpr_bullish'], majority_rates['tpr_bullish'], color='cyan', label='Majority Bullish')\n",
    "    plt.scatter(mean_rates['fpr_bearish'], mean_rates['tpr_bearish'], color='orange', label='Mean Bearish')\n",
    "    plt.scatter(mean_rates['fpr_bullish'], mean_rates['tpr_bullish'], color='lime', label='Mean Bullish')\n",
    "\n",
    "    # Annotate points\n",
    "    plt.annotate(f'Majority Bearish: {round(majority_rates[\"tpr_bearish\"] * 100, 2)}% TPR', (majority_rates['fpr_bearish'] + 0.01, majority_rates['tpr_bearish'] + 0.02), fontsize=8, color='black')\n",
    "    plt.annotate(f'Majority Bullish: {round(majority_rates[\"tpr_bullish\"] * 100, 2)}% TPR', (majority_rates['fpr_bullish'] + 0.01, majority_rates['tpr_bullish'] - 0.01), fontsize=8, color='black')\n",
    "    plt.annotate(f'Mean Bearish: {round(mean_rates[\"tpr_bearish\"] * 100, 2)}% TPR', (mean_rates['fpr_bearish'] + 0.01, mean_rates['tpr_bearish'] - 0.01), fontsize=8, color='black')\n",
    "    plt.annotate(f'Mean Bullish: {round(mean_rates[\"tpr_bullish\"] * 100, 2)}% TPR', (mean_rates['fpr_bullish'] + 0.01, mean_rates['tpr_bullish'] - 0.03), fontsize=8, color='black')\n",
    "\n",
    "    # Add labels and title\n",
    "    plt.xlabel('False Positive Rate')\n",
    "    plt.ylabel('True Positive Rate')\n",
    "    plt.legend(loc=\"lower right\")\n",
    "    plt.grid(True)\n",
    "    plt.xlim(0, 1)\n",
    "    plt.ylim(0, 1)\n",
    "    plt.savefig(\"./tpr_fpr.png\")\n",
    "    plt.show()"
   ]
  },
  {
   "cell_type": "code",
   "execution_count": 68,
   "id": "6646aa58-3f2a-4685-be89-c757ade8cbf4",
   "metadata": {},
   "outputs": [
    {
     "data": {
      "image/png": "[encoded data removed]",
      "text/plain": [
       "<Figure size 1200x500 with 1 Axes>"
      ]
     },
     "metadata": {},
     "output_type": "display_data"
    }
   ],
   "source": [
    "from sklearn.metrics import confusion_matrix\n",
    "\n",
    "# Assuming y_true_majority_filtered and y_pred_majority_filtered are already defined\n",
    "# Calculate confusion matrix components for majority predictions\n",
    "tn_majority, fp_majority, fn_majority, tp_majority = confusion_matrix(y_true_majority_filtered, y_pred_majority_filtered, labels=[0, 2]).ravel()\n",
    "\n",
    "# Construct majority_rates dictionary\n",
    "majority_rates = {\n",
    "    'tp_bearish': tn_majority,  # True negatives for bearish\n",
    "    'fp_bearish': fn_majority,  # False negatives for bearish\n",
    "    'tn_bearish': tp_majority,  # True positives for bearish\n",
    "    'fn_bearish': fp_majority,  # False positives for bearish\n",
    "    'tp_bullish': tp_majority,  # True positives for bullish\n",
    "    'fp_bullish': fp_majority,  # False positives for bullish\n",
    "    'tn_bullish': tn_majority,  # True negatives for bullish\n",
    "    'fn_bullish': fn_majority   # False negatives for bullish\n",
    "}\n",
    "\n",
    "# Assuming y_true_mean_filtered and y_pred_mean_filtered are already defined\n",
    "# Calculate confusion matrix components for mean predictions\n",
    "tn_mean, fp_mean, fn_mean, tp_mean = confusion_matrix(y_true_mean_filtered, y_pred_mean_filtered, labels=[0, 2]).ravel()\n",
    "\n",
    "# Construct mean_rates dictionary\n",
    "mean_rates = {\n",
    "    'tp_bearish': tn_mean,  # True negatives for bearish\n",
    "    'fp_bearish': fn_mean,  # False negatives for bearish\n",
    "    'tn_bearish': tp_mean,  # True positives for bearish\n",
    "    'fn_bearish': fp_mean,  # False positives for bearish\n",
    "    'tp_bullish': tp_mean,  # True positives for bullish\n",
    "    'fp_bullish': fp_mean,  # False positives for bullish\n",
    "    'tn_bullish': tn_mean,  # True negatives for bullish\n",
    "    'fn_bullish': fn_mean   # False negatives for bullish\n",
    "}\n",
    "\n",
    "# Now you can use the plot_tpr_fpr function\n",
    "plot_tpr_fpr(majority_rates, mean_rates)"
   ]
  },
  {
   "cell_type": "code",
   "execution_count": 66,
   "id": "6ee7b01c-5193-4a39-84ce-694699ba74c2",
   "metadata": {},
   "outputs": [
    {
     "ename": "IndexError",
     "evalue": "invalid index to scalar variable.",
     "output_type": "error",
     "traceback": [
      "\u001b[0;31m---------------------------------------------------------------------------\u001b[0m",
      "\u001b[0;31mIndexError\u001b[0m                                Traceback (most recent call last)",
      "Cell \u001b[0;32mIn[66], line 1\u001b[0m\n\u001b[0;32m----> 1\u001b[0m \u001b[43mplot_tpr_fpr\u001b[49m\u001b[43m(\u001b[49m\u001b[43mtpr_majority_bullish\u001b[49m\u001b[43m,\u001b[49m\u001b[43m \u001b[49m\u001b[43mtpr_mean_bullish\u001b[49m\u001b[43m)\u001b[49m\n",
      "Cell \u001b[0;32mIn[64], line 3\u001b[0m, in \u001b[0;36mplot_tpr_fpr\u001b[0;34m(majority_rates, mean_rates)\u001b[0m\n\u001b[1;32m      1\u001b[0m \u001b[38;5;28;01mdef\u001b[39;00m \u001b[38;5;21mplot_tpr_fpr\u001b[39m(majority_rates, mean_rates):\n\u001b[1;32m      2\u001b[0m     \u001b[38;5;66;03m# Calculate TPR and FPR for majority rates\u001b[39;00m\n\u001b[0;32m----> 3\u001b[0m     majority_rates[\u001b[38;5;124m'\u001b[39m\u001b[38;5;124mtpr_bearish\u001b[39m\u001b[38;5;124m'\u001b[39m] \u001b[38;5;241m=\u001b[39m \u001b[43mmajority_rates\u001b[49m\u001b[43m[\u001b[49m\u001b[38;5;124;43m'\u001b[39;49m\u001b[38;5;124;43mtp_bearish\u001b[39;49m\u001b[38;5;124;43m'\u001b[39;49m\u001b[43m]\u001b[49m \u001b[38;5;241m/\u001b[39m (majority_rates[\u001b[38;5;124m'\u001b[39m\u001b[38;5;124mtp_bearish\u001b[39m\u001b[38;5;124m'\u001b[39m] \u001b[38;5;241m+\u001b[39m majority_rates[\u001b[38;5;124m'\u001b[39m\u001b[38;5;124mfn_bearish\u001b[39m\u001b[38;5;124m'\u001b[39m])\n\u001b[1;32m      4\u001b[0m     majority_rates[\u001b[38;5;124m'\u001b[39m\u001b[38;5;124mfpr_bearish\u001b[39m\u001b[38;5;124m'\u001b[39m] \u001b[38;5;241m=\u001b[39m majority_rates[\u001b[38;5;124m'\u001b[39m\u001b[38;5;124mfp_bearish\u001b[39m\u001b[38;5;124m'\u001b[39m] \u001b[38;5;241m/\u001b[39m (majority_rates[\u001b[38;5;124m'\u001b[39m\u001b[38;5;124mfp_bearish\u001b[39m\u001b[38;5;124m'\u001b[39m] \u001b[38;5;241m+\u001b[39m majority_rates[\u001b[38;5;124m'\u001b[39m\u001b[38;5;124mtn_bearish\u001b[39m\u001b[38;5;124m'\u001b[39m])\n\u001b[1;32m      5\u001b[0m     majority_rates[\u001b[38;5;124m'\u001b[39m\u001b[38;5;124mtpr_bullish\u001b[39m\u001b[38;5;124m'\u001b[39m] \u001b[38;5;241m=\u001b[39m majority_rates[\u001b[38;5;124m'\u001b[39m\u001b[38;5;124mtp_bullish\u001b[39m\u001b[38;5;124m'\u001b[39m] \u001b[38;5;241m/\u001b[39m (majority_rates[\u001b[38;5;124m'\u001b[39m\u001b[38;5;124mtp_bullish\u001b[39m\u001b[38;5;124m'\u001b[39m] \u001b[38;5;241m+\u001b[39m majority_rates[\u001b[38;5;124m'\u001b[39m\u001b[38;5;124mfn_bullish\u001b[39m\u001b[38;5;124m'\u001b[39m])\n",
      "\u001b[0;31mIndexError\u001b[0m: invalid index to scalar variable."
     ]
    }
   ],
   "source": [
    "plot_tpr_fpr(tpr_majority_bullish, tpr_mean_bullish)"
   ]
  }
 ],
 "metadata": {
  "kernelspec": {
   "display_name": "Python 3 (ipykernel)",
   "language": "python",
   "name": "python3"
  },
  "language_info": {
   "codemirror_mode": {
    "name": "ipython",
    "version": 3
   },
   "file_extension": ".py",
   "mimetype": "text/x-python",
   "name": "python",
   "nbconvert_exporter": "python",
   "pygments_lexer": "ipython3",
   "version": "3.11.5"
  }
 },
 "nbformat": 4,
 "nbformat_minor": 5
}
